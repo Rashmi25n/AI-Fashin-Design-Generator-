{
  "nbformat": 4,
  "nbformat_minor": 0,
  "metadata": {
    "colab": {
      "provenance": [],
      "gpuType": "T4"
    },
    "kernelspec": {
      "name": "python3",
      "display_name": "Python 3"
    },
    "language_info": {
      "name": "python"
    },
    "accelerator": "GPU"
  },
  "cells": [
    {
      "cell_type": "code",
      "source": [
        "# ===============================\n",
        "# AI Fashion Design Generator (Improved DCGAN)\n",
        "# ===============================\n",
        "import tensorflow as tf\n",
        "from tensorflow.keras import layers\n",
        "import numpy as np\n",
        "import matplotlib.pyplot as plt\n",
        "import os\n",
        "from IPython.display import clear_output\n",
        "\n",
        "# ------------------------------\n",
        "# 1. Load & Prepare Data\n",
        "# ------------------------------\n",
        "(X_train, _), (_, _) = tf.keras.datasets.fashion_mnist.load_data()\n",
        "X_train = (X_train - 127.5) / 127.5  # Normalize to [-1, 1]\n",
        "X_train = np.expand_dims(X_train, axis=-1).astype('float32')\n",
        "\n",
        "BUFFER_SIZE = 60000\n",
        "BATCH_SIZE = 128\n",
        "dataset = tf.data.Dataset.from_tensor_slices(X_train).shuffle(BUFFER_SIZE).batch(BATCH_SIZE)\n",
        "\n",
        "# ------------------------------\n",
        "# 2. Build Generator\n",
        "# ------------------------------\n",
        "def make_generator():\n",
        "    model = tf.keras.Sequential([\n",
        "        layers.Input(shape=(100,)),\n",
        "        layers.Dense(7*7*256, use_bias=False),\n",
        "        layers.BatchNormalization(),\n",
        "        layers.LeakyReLU(),\n",
        "\n",
        "        layers.Reshape((7, 7, 256)),\n",
        "        layers.Conv2DTranspose(128, (5,5), strides=(1,1), padding='same', use_bias=False),\n",
        "        layers.BatchNormalization(),\n",
        "        layers.LeakyReLU(),\n",
        "\n",
        "        layers.Conv2DTranspose(64, (5,5), strides=(2,2), padding='same', use_bias=False),\n",
        "        layers.BatchNormalization(),\n",
        "        layers.LeakyReLU(),\n",
        "\n",
        "        layers.Conv2DTranspose(1, (5,5), strides=(2,2), padding='same', use_bias=False, activation='tanh')\n",
        "    ])\n",
        "    return model\n",
        "\n",
        "# ------------------------------\n",
        "# 3. Build Discriminator\n",
        "# ------------------------------\n",
        "def make_discriminator():\n",
        "    model = tf.keras.Sequential([\n",
        "        layers.Input(shape=(28, 28, 1)),\n",
        "        layers.Conv2D(64, (5,5), strides=(2,2), padding='same'),\n",
        "        layers.LeakyReLU(),\n",
        "        layers.Dropout(0.3),\n",
        "\n",
        "        layers.Conv2D(128, (5,5), strides=(2,2), padding='same'),\n",
        "        layers.LeakyReLU(),\n",
        "        layers.Dropout(0.3),\n",
        "\n",
        "        layers.Flatten(),\n",
        "        layers.Dense(1)\n",
        "    ])\n",
        "    return model\n",
        "\n",
        "# ------------------------------\n",
        "# 4. Define Loss and Optimizers\n",
        "# ------------------------------\n",
        "cross_entropy = tf.keras.losses.BinaryCrossentropy(from_logits=True)\n",
        "generator = make_generator()\n",
        "discriminator = make_discriminator()\n",
        "\n",
        "generator_optimizer = tf.keras.optimizers.Adam(1e-4, beta_1=0.5)\n",
        "discriminator_optimizer = tf.keras.optimizers.Adam(1e-4, beta_1=0.5)\n",
        "\n",
        "# ------------------------------\n",
        "# 5. Training Step\n",
        "# ------------------------------\n",
        "@tf.function\n",
        "def train_step(images):\n",
        "    current_batch = tf.shape(images)[0]  # dynamically detect batch size\n",
        "    noise = tf.random.normal([current_batch, 100])\n",
        "    real_labels = tf.ones((current_batch, 1)) * 0.9  # label smoothing\n",
        "    fake_labels = tf.zeros((current_batch, 1))\n",
        "\n",
        "    with tf.GradientTape() as disc_tape, tf.GradientTape() as gen_tape:\n",
        "        generated_images = generator(noise, training=True)\n",
        "\n",
        "        real_output = discriminator(images, training=True)\n",
        "        fake_output = discriminator(generated_images, training=True)\n",
        "\n",
        "        d_loss_real = cross_entropy(real_labels, real_output)\n",
        "        d_loss_fake = cross_entropy(fake_labels, fake_output)\n",
        "        d_loss = d_loss_real + d_loss_fake\n",
        "\n",
        "        g_loss = cross_entropy(real_labels, fake_output)\n",
        "\n",
        "    gradients_of_generator = gen_tape.gradient(g_loss, generator.trainable_variables)\n",
        "    gradients_of_discriminator = disc_tape.gradient(d_loss, discriminator.trainable_variables)\n",
        "\n",
        "    generator_optimizer.apply_gradients(zip(gradients_of_generator, generator.trainable_variables))\n",
        "    discriminator_optimizer.apply_gradients(zip(gradients_of_discriminator, discriminator.trainable_variables))\n",
        "\n",
        "    return g_loss, d_loss\n",
        "# ------------------------------\n",
        "# 6. Training Loop\n",
        "# ------------------------------\n",
        "EPOCHS = 15\n",
        "noise_seed = tf.random.normal([16, 100])\n",
        "os.makedirs(\"outputs\", exist_ok=True)\n",
        "\n",
        "def generate_and_save_images(model, epoch, test_input):\n",
        "    predictions = model(test_input, training=False)\n",
        "    fig = plt.figure(figsize=(4,4))\n",
        "    for i in range(predictions.shape[0]):\n",
        "        plt.subplot(4, 4, i+1)\n",
        "        plt.imshow((predictions[i, :, :, 0] + 1) / 2.0, cmap='gray')\n",
        "        plt.axis('off')\n",
        "    plt.suptitle(f'Epoch {epoch}', fontsize=14)\n",
        "    plt.savefig(f'outputs/fashion_epoch_{epoch:03d}.png')\n",
        "    plt.close(fig)\n",
        "\n",
        "def train(dataset, epochs):\n",
        "    for epoch in range(1, epochs + 1):\n",
        "        for image_batch in dataset:\n",
        "            g_loss, d_loss = train_step(image_batch)\n",
        "        clear_output(wait=True)\n",
        "        print(f'Epoch {epoch}/{epochs} — g_loss: {g_loss:.4f}, d_loss: {d_loss:.4f}')\n",
        "        generate_and_save_images(generator, epoch, noise_seed)\n",
        "\n",
        "train(dataset, EPOCHS)\n",
        "print(\"\\n✅ Training complete! Check 'outputs' folder for generated designs.\")"
      ],
      "metadata": {
        "colab": {
          "base_uri": "https://localhost:8080/"
        },
        "id": "EHP5_lKB0PS3",
        "outputId": "7240b04f-2f05-4287-96cc-6dd51f44cbc9"
      },
      "execution_count": null,
      "outputs": [
        {
          "output_type": "stream",
          "name": "stdout",
          "text": [
            "Epoch 15/15 — g_loss: 0.9211, d_loss: 1.2859\n",
            "\n",
            "✅ Training complete! Check 'outputs' folder for generated designs.\n"
          ]
        }
      ]
    },
    {
      "cell_type": "code",
      "source": [
        "!ls outputs"
      ],
      "metadata": {
        "colab": {
          "base_uri": "https://localhost:8080/"
        },
        "id": "jEOkXC8w0PWW",
        "outputId": "b56609f9-22c6-4336-e20c-b71d95d3f80b"
      },
      "execution_count": null,
      "outputs": [
        {
          "output_type": "stream",
          "name": "stdout",
          "text": [
            "fashion_epoch_001.png  fashion_epoch_006.png  fashion_epoch_011.png\n",
            "fashion_epoch_002.png  fashion_epoch_007.png  fashion_epoch_012.png\n",
            "fashion_epoch_003.png  fashion_epoch_008.png  fashion_epoch_013.png\n",
            "fashion_epoch_004.png  fashion_epoch_009.png  fashion_epoch_014.png\n",
            "fashion_epoch_005.png  fashion_epoch_010.png  fashion_epoch_015.png\n"
          ]
        }
      ]
    },
    {
      "cell_type": "code",
      "source": [],
      "metadata": {
        "id": "3Ra-48Fr0Pd_"
      },
      "execution_count": null,
      "outputs": []
    }
  ]
}